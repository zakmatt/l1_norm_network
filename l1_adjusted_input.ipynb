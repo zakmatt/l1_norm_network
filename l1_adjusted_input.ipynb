{
 "cells": [
  {
   "cell_type": "code",
   "execution_count": 79,
   "id": "f7687829-6172-442e-b618-09926c1f610e",
   "metadata": {},
   "outputs": [],
   "source": [
    "import torch\n",
    "\n",
    "from torch import nn\n",
    "from torch import optim\n",
    "from torch.nn.utils.rnn import pad_sequence"
   ]
  },
  {
   "cell_type": "markdown",
   "id": "80a2a1a1-694d-45d9-bdd3-e37eaf6f772a",
   "metadata": {},
   "source": [
    "## Thoughts and assumptions\n",
    "In this task I was to create a network which would compute the $L1$ norm of the a variable-length input sequence of real-valued numbers without using the $L1$ norm explicitly. I could use Dense Layers, Relu activations, the negation operation, and the sum and multiplication operations. No manually initialize a specific weight or set of weights was allowed.\n",
    "\n",
    "I needed to split this problem into multiple 'sub-problems'\n",
    "1. Handle the variable-lenth input sequence.\n",
    "2. Handle values of different signs.\n",
    "3. Build a trainable model which would predict/compute the $L1$ norm of the input.  \n",
    "\n",
    "=====================================================================================================================================\n",
    "\n",
    "1. The first point was relatively easy and hinted in the task description - use an RNN architecture.\n",
    "2. Point number two needed a bit more thinking and not because it was hard to implement it, but in order to better understand why such operations is required.  \n",
    "output of the RNN cell can described using the following equation:  \n",
    "<center>$h' = tanh(W_{ih}*x + b_{ih} + W_{hh}*h + b_{hh})$</center>  \n",
    "If the input $x$ changes its sign, then it will adjust the value that will before having it processed through the activation function. I could use the negation so I will change the signs to positive wherever $x < 0$. The other thing which requires attention is the activation function itself. $tanh$ value range is $(-1, 1)$, which scales our output and this behaviour is not expected. We will change it then to relu which returns a linear output for a non-negative input $ReLU(x) = (x)^{+}$. Our equation then changes into\n",
    "<center>$h' = ReLU(W_{ih}*x + b_{ih} + W_{hh}*h + b_{hh})$</center> \n",
    "3. Here I needed to establish what I want to achieve. I have an RNN cell which outputs the sum of the scaled previous output added to the current number which is also scaled. I also add bias. That lead me to the conclusion that the feasible solution to that would get an RNN cel which weights would be identity matrices (or just 1 like in our case; $W_{ih} = 1$ and $W_{hh} = 1$) and bias is either 0 (both $b_{ih} = 0$ and $b_{hh} = 0$) or it cancel itself ($b_{ih} = -b_{hh}$). I cannot set it manually but at least I know what I'm trying to achieve."
   ]
  },
  {
   "cell_type": "code",
   "execution_count": 261,
   "id": "d5925324-a24a-45b1-bfb8-a5ed57047db6",
   "metadata": {},
   "outputs": [],
   "source": [
    "class CustomRNNCell(nn.Module):\n",
    "    \"\"\"Custom RNN cell \n",
    "    Custom RNN cell which for a given input returns it's positive value summed\n",
    "    to the information carried along.\n",
    "    \"\"\"\n",
    "\n",
    "    def __init__(self, input_size: int = 1, hidden_size: int = 1):\n",
    "        \"\"\"Initialization method\n",
    "\n",
    "        :param input_size: input size; number od values in a single input\n",
    "        :type input_size: int\n",
    "        :param hidden_size: number of features in the hidden layer of our RNN cell\n",
    "        :type hidden_size: int\n",
    "        \"\"\"\n",
    "        super(CustomRNNCell, self).__init__()\n",
    "\n",
    "        self._rnn_cell = nn.RNNCell(\n",
    "            input_size, \n",
    "            hidden_size,\n",
    "            bias=False, # we do not need bias since it's information is irrelevant.\n",
    "            nonlinearity='relu'\n",
    "        )\n",
    "\n",
    "    def forward(self, x, hidden):\n",
    "        \"\"\"\n",
    "        \"\"\"\n",
    "\n",
    "        # transformation to input x\n",
    "        x = torch.where(x < 0, torch.neg(x), x)\n",
    " \n",
    "        # pass through the cell\n",
    "        hidden = self._rnn_cell(x, hidden)\n",
    "\n",
    "        return hidden"
   ]
  },
  {
   "cell_type": "code",
   "execution_count": 262,
   "id": "71f37f04-2cee-4276-835f-c1254241fff4",
   "metadata": {},
   "outputs": [],
   "source": [
    "# RNN network that sums the outputs of the CustomRNNCell\n",
    "class CustomRNN(nn.Module):\n",
    "    def __init__(self, input_size, hidden_size):\n",
    "        super(CustomRNN, self).__init__()\n",
    "        self.hidden_size = hidden_size\n",
    "        self.rnn_cell = CustomRNNCell(input_size, hidden_size)\n",
    "        \n",
    "    def forward(self, x, print_results=False):\n",
    "        batch_size = x.size(0)\n",
    "        hidden = torch.zeros(batch_size, self.hidden_size)\n",
    "\n",
    "        # Iterate over time steps\n",
    "        for t in range(x.size(1)):\n",
    "            current_input = x[:, t, :]\n",
    "            hidden = self.rnn_cell(current_input, hidden)\n",
    "        \n",
    "        return hidden"
   ]
  },
  {
   "cell_type": "code",
   "execution_count": 263,
   "id": "c943b79c-68df-4dc5-af06-d548f20631ba",
   "metadata": {},
   "outputs": [],
   "source": [
    "# Function to generate random sequences and their L1 norms\n",
    "def generate_data(batch_size, max_length):\n",
    "    sequences = []\n",
    "    targets = []\n",
    "    for _ in range(batch_size):\n",
    "        length = torch.randint(1, max_length + 1, (1,)).item() # get random length\n",
    "        seq = torch.randn(length, 1)  # Random sequence of 'length'\n",
    "        l1_norm = torch.sum(torch.abs(seq))  # Compute the L1 norm\n",
    "        sequences.append(seq)\n",
    "        targets.append(torch.tensor([l1_norm], dtype=torch.float32))\n",
    "    return sequences, targets"
   ]
  },
  {
   "cell_type": "code",
   "execution_count": 264,
   "id": "21a74f4e-e7b5-4fe5-a20a-262caf6ef6a0",
   "metadata": {},
   "outputs": [
    {
     "name": "stdout",
     "output_type": "stream",
     "text": [
      "Parameter containing:\n",
      "tensor([[0.4361]], requires_grad=True)\n",
      "Parameter containing:\n",
      "tensor([[-0.5121]], requires_grad=True)\n"
     ]
    }
   ],
   "source": [
    "# Parameters\n",
    "input_size = 1  # Each element is a scalar\n",
    "hidden_size = 1  # Output is a scalar\n",
    "batch_size = 8\n",
    "max_length = 10  # Maximum length of any sequence\n",
    "epochs = 10000\n",
    "\n",
    "# Create the RNN model\n",
    "model = CustomRNN(input_size=input_size, hidden_size=hidden_size)\n",
    "\n",
    "for p in model.rnn_cell.parameters():\n",
    "    print(p)"
   ]
  },
  {
   "cell_type": "code",
   "execution_count": 265,
   "id": "d0202b39-0d52-4d83-8bf3-5055ec2b5248",
   "metadata": {},
   "outputs": [],
   "source": [
    "# train till w's are 1"
   ]
  },
  {
   "cell_type": "code",
   "execution_count": 268,
   "id": "ce181d61-cc8c-4b04-940f-cf9ee9dc73a1",
   "metadata": {},
   "outputs": [
    {
     "name": "stdout",
     "output_type": "stream",
     "text": [
      "Epoch 100, Loss: 0.0001708079653326422\n",
      "Epoch 200, Loss: 4.289804067525438e-09\n",
      "Finished training after 297 epochs\n"
     ]
    }
   ],
   "source": [
    "optimizer = optim.Adam(model.parameters(), lr=.1)\n",
    "criterion = nn.MSELoss()  # Mean Squared Error loss\n",
    "\n",
    "# Generate a batch of random sequences and their L1 norms\n",
    "sequences, targets = generate_data(batch_size=batch_size, max_length=max_length)\n",
    "\n",
    "# Pad sequences to have a consistent batch size\n",
    "padded_sequences = pad_sequence(sequences, batch_first=True)\n",
    "lengths = torch.tensor([len(seq) for seq in sequences])\n",
    "targets = torch.cat(targets)\n",
    "\n",
    "#for epoch in range(epochs):\n",
    "epoch = 1\n",
    "do_train = True\n",
    "while do_train:\n",
    "    # Pad sequences to have a consistent batch size\n",
    "    padded_sequences = pad_sequence(sequences, batch_first=True)\n",
    "    \n",
    "    optimizer.zero_grad()\n",
    "    \n",
    "    # Forward pass\n",
    "    outputs = model(padded_sequences).squeeze(1)\n",
    "    \n",
    "    # Compute loss\n",
    "    loss = criterion(outputs, targets)\n",
    "    loss.backward()\n",
    "    \n",
    "    # Update weights\n",
    "    optimizer.step()\n",
    "    \n",
    "    if epoch % 100 == 0:\n",
    "        print(f'Epoch {epoch}, Loss: {loss.item()}')\n",
    "\n",
    "    if model.rnn_cell._rnn_cell.weight_hh == 1 and model.rnn_cell._rnn_cell.weight_ih == 1:\n",
    "        print(f\"Finished training after {epoch} epochs\")\n",
    "        do_train = False\n",
    "    epoch += 1"
   ]
  },
  {
   "cell_type": "code",
   "execution_count": 269,
   "id": "657906cc-f48b-4ca9-a86a-b87fe98f6ab2",
   "metadata": {},
   "outputs": [
    {
     "name": "stdout",
     "output_type": "stream",
     "text": [
      "Parameter containing:\n",
      "tensor([[1.]], requires_grad=True)\n",
      "Parameter containing:\n",
      "tensor([[1.]], requires_grad=True)\n"
     ]
    }
   ],
   "source": [
    "for p in model.rnn_cell.parameters():\n",
    "    print(p)"
   ]
  },
  {
   "cell_type": "code",
   "execution_count": 270,
   "id": "38675868-6713-4b60-a771-1b96078f8896",
   "metadata": {},
   "outputs": [
    {
     "data": {
      "text/plain": [
       "(Parameter containing:\n",
       " tensor([[1.]], requires_grad=True),\n",
       " Parameter containing:\n",
       " tensor([[1.]], requires_grad=True),\n",
       " None,\n",
       " None)"
      ]
     },
     "execution_count": 270,
     "metadata": {},
     "output_type": "execute_result"
    }
   ],
   "source": [
    "model.rnn_cell._rnn_cell.weight_hh, model.rnn_cell._rnn_cell.weight_ih, model.rnn_cell._rnn_cell.bias_hh, model.rnn_cell._rnn_cell.bias_ih"
   ]
  },
  {
   "cell_type": "code",
   "execution_count": 253,
   "id": "77b361ad-1236-4e4b-be9c-509e70a3bc6d",
   "metadata": {},
   "outputs": [
    {
     "name": "stdout",
     "output_type": "stream",
     "text": [
      "Epoch 0, Loss: 18.528465270996094\n",
      "Epoch 100, Loss: 23.143762588500977\n",
      "Epoch 200, Loss: 10.109903335571289\n",
      "Epoch 300, Loss: 0.43800294399261475\n",
      "Epoch 400, Loss: 0.08178436011075974\n",
      "Epoch 500, Loss: 0.05002187192440033\n",
      "Epoch 600, Loss: 0.03228967636823654\n",
      "Epoch 700, Loss: 0.019860919564962387\n",
      "Epoch 800, Loss: 0.06131543964147568\n",
      "Epoch 900, Loss: 0.019320055842399597\n",
      "Epoch 1000, Loss: 0.03905189037322998\n",
      "Epoch 1100, Loss: 0.04713689908385277\n",
      "Epoch 1200, Loss: 0.013239098712801933\n",
      "Epoch 1300, Loss: 0.02433709427714348\n",
      "Epoch 1400, Loss: 0.01014829333871603\n",
      "Epoch 1500, Loss: 0.012641885317862034\n",
      "Epoch 1600, Loss: 0.03029327280819416\n",
      "Epoch 1700, Loss: 0.031277067959308624\n",
      "Epoch 1800, Loss: 0.011759214103221893\n",
      "Epoch 1900, Loss: 0.01458704099059105\n",
      "Epoch 2000, Loss: 0.009540936909615993\n",
      "Epoch 2100, Loss: 0.0055660465732216835\n",
      "Epoch 2200, Loss: 0.003678351640701294\n",
      "Epoch 2300, Loss: 0.004250539466738701\n",
      "Epoch 2400, Loss: 0.007224759552627802\n",
      "Epoch 2500, Loss: 0.0014588885242119431\n",
      "Epoch 2600, Loss: 0.001282304641790688\n",
      "Epoch 2700, Loss: 0.0007802770123817027\n",
      "Epoch 2800, Loss: 0.0021592548582702875\n",
      "Epoch 2900, Loss: 0.0013148951111361384\n",
      "Epoch 3000, Loss: 0.0015429554041475058\n",
      "Epoch 3100, Loss: 0.0005261160549707711\n",
      "Epoch 3200, Loss: 0.0006815569940954447\n",
      "Epoch 3300, Loss: 0.0008267041994258761\n",
      "Epoch 3400, Loss: 0.00012452536611817777\n",
      "Epoch 3500, Loss: 0.00024043444136623293\n",
      "Epoch 3600, Loss: 0.00013435968139674515\n",
      "Epoch 3700, Loss: 8.715267904335633e-05\n",
      "Epoch 3800, Loss: 2.448578379699029e-05\n",
      "Epoch 3900, Loss: 1.7691125322016887e-05\n",
      "Epoch 4000, Loss: 9.748084266902879e-06\n",
      "Epoch 4100, Loss: 1.3132892490830272e-05\n",
      "Epoch 4200, Loss: 2.799722778945579e-06\n",
      "Epoch 4300, Loss: 5.4605729928880464e-06\n",
      "Epoch 4400, Loss: 7.580480314572924e-07\n",
      "Epoch 4500, Loss: 4.221580240937328e-07\n",
      "Epoch 4600, Loss: 1.3146792809948238e-07\n",
      "Epoch 4700, Loss: 4.731326441742567e-08\n",
      "Epoch 4800, Loss: 1.0194227684223733e-07\n",
      "Epoch 4900, Loss: 5.3430646573815466e-08\n",
      "Epoch 5000, Loss: 1.810585104067286e-08\n",
      "Epoch 5100, Loss: 1.4278889182151033e-09\n",
      "Epoch 5200, Loss: 2.2926371912035393e-10\n",
      "Epoch 5300, Loss: 3.2290436990933813e-10\n",
      "Epoch 5400, Loss: 1.206537092457438e-10\n",
      "Epoch 5500, Loss: 5.062616992290714e-11\n",
      "Epoch 5600, Loss: 3.6043723561363095e-11\n",
      "Epoch 5700, Loss: 4.8402171159978025e-11\n",
      "Epoch 5800, Loss: 3.495870259939693e-12\n",
      "Epoch 5900, Loss: 1.1461054327810416e-11\n",
      "Epoch 6000, Loss: 4.214406601477094e-12\n",
      "Epoch 6100, Loss: 2.7103042032905478e-12\n",
      "Epoch 6200, Loss: 6.761813331479516e-12\n",
      "Epoch 6300, Loss: 4.046984969363621e-12\n",
      "Epoch 6400, Loss: 8.242295734817162e-12\n",
      "Epoch 6500, Loss: 3.625544309215911e-12\n",
      "Epoch 6600, Loss: 7.0912165028858e-12\n",
      "Epoch 6700, Loss: 7.636558052581677e-12\n",
      "Epoch 6800, Loss: 1.1057821325266559e-11\n",
      "Epoch 6900, Loss: 3.582911745070305e-12\n",
      "Epoch 7000, Loss: 1.7905676941154525e-12\n",
      "Epoch 7100, Loss: 4.9329429430144955e-12\n",
      "Epoch 7200, Loss: 4.842792833414933e-12\n",
      "Epoch 7300, Loss: 8.002487561498128e-13\n",
      "Epoch 7400, Loss: 3.477024224096681e-12\n",
      "Epoch 7500, Loss: 2.235100993175365e-12\n",
      "Epoch 7600, Loss: 1.1599610161283636e-12\n",
      "Epoch 7700, Loss: 1.6129320101754274e-12\n",
      "Epoch 7800, Loss: 4.778399897986674e-13\n",
      "Epoch 7900, Loss: 8.846274407448007e-13\n",
      "Epoch 8000, Loss: 5.041522754822836e-13\n",
      "Epoch 8100, Loss: 7.531752999057062e-13\n",
      "Epoch 8200, Loss: 1.1510792319313623e-12\n",
      "Epoch 8300, Loss: 5.275779813018744e-13\n",
      "Epoch 8400, Loss: 1.450506381672767e-12\n",
      "Epoch 8500, Loss: 9.685863222586022e-13\n",
      "Epoch 8600, Loss: 1.1795009413617663e-12\n",
      "Epoch 8700, Loss: 5.0963677722393186e-12\n",
      "Epoch 8800, Loss: 2.0534685063466895e-12\n",
      "Epoch 8900, Loss: 1.6360246490876307e-12\n",
      "Epoch 9000, Loss: 2.3305801732931286e-12\n",
      "Epoch 9100, Loss: 1.9895196601282805e-12\n",
      "Epoch 9200, Loss: 2.6756374893466273e-12\n",
      "Epoch 9300, Loss: 4.4986236957811343e-13\n",
      "Epoch 9400, Loss: 2.935429677108914e-13\n",
      "Epoch 9500, Loss: 4.0545344859310717e-13\n",
      "Epoch 9600, Loss: 1.4281908988778014e-12\n",
      "Epoch 9700, Loss: 1.4210854715202004e-13\n",
      "Epoch 9800, Loss: 7.105427357601002e-15\n",
      "Epoch 9900, Loss: 7.105427357601002e-15\n",
      "Predicted sum: 17.0, Actual sum: 17.0\n"
     ]
    }
   ],
   "source": [
    "# Training setup\n",
    "def train_model(model, epochs, batch_size, max_length, learning_rate=0.001):\n",
    "    optimizer = optim.Adam(model.parameters(), lr=learning_rate)\n",
    "    criterion = nn.MSELoss()  # Mean Squared Error loss\n",
    "    \n",
    "    for epoch in range(epochs):\n",
    "        # Generate a batch of random sequences and their L1 norms\n",
    "        sequences, targets = generate_data(batch_size=batch_size, max_length=max_length)\n",
    "        \n",
    "        # Pad sequences to have a consistent batch size\n",
    "        padded_sequences = pad_sequence(sequences, batch_first=True)\n",
    "        targets = torch.cat(targets)\n",
    "        \n",
    "        optimizer.zero_grad()\n",
    "        \n",
    "        # Forward pass\n",
    "        outputs = model(padded_sequences).squeeze(1)\n",
    "        \n",
    "        # Compute loss\n",
    "        loss = criterion(outputs, targets)\n",
    "        loss.backward()\n",
    "        \n",
    "        # Update weights\n",
    "        optimizer.step()\n",
    "        \n",
    "        if epoch % 100 == 0:\n",
    "            print(f'Epoch {epoch}, Loss: {loss.item()}')\n",
    "\n",
    "# Parameters\n",
    "input_size = 1  # Each element is a scalar\n",
    "hidden_size = 1  # Output is a scalar\n",
    "batch_size = 8\n",
    "max_length = 10  # Maximum length of any sequence\n",
    "epochs = 10000\n",
    "\n",
    "# Create the RNN model\n",
    "model = CustomRNN(input_size=input_size, hidden_size=hidden_size)\n",
    "\n",
    "# Train the model\n",
    "train_model(model, epochs, batch_size, max_length)\n",
    "\n",
    "# Test the model on a new sequence\n",
    "test_sequence = torch.tensor([3, -5, 7, -2], dtype=torch.float32).unsqueeze(1).unsqueeze(0)\n",
    "test_length = torch.tensor([test_sequence.size(1)])\n",
    "\n",
    "# Get the model's prediction\n",
    "model.eval()\n",
    "with torch.no_grad():\n",
    "    predicted_sum = model(test_sequence).item()\n",
    "    actual_sum = sum(torch.abs(test_sequence).squeeze()).item()\n",
    "\n",
    "print(f\"Predicted sum: {predicted_sum}, Actual sum: {actual_sum}\")"
   ]
  },
  {
   "cell_type": "code",
   "execution_count": 254,
   "id": "c68afb29-dd8c-4114-a88b-4a087a248796",
   "metadata": {},
   "outputs": [
    {
     "data": {
      "text/plain": [
       "(None, None)"
      ]
     },
     "execution_count": 254,
     "metadata": {},
     "output_type": "execute_result"
    }
   ],
   "source": [
    "model.rnn_cell._rnn_cell.bias_hh, model.rnn_cell._rnn_cell.bias_ih"
   ]
  },
  {
   "cell_type": "code",
   "execution_count": 255,
   "id": "cd6df9a1-7c73-4e3c-8d3c-a3a614c22844",
   "metadata": {},
   "outputs": [
    {
     "data": {
      "text/plain": [
       "(Parameter containing:\n",
       " tensor([[1.]], requires_grad=True),\n",
       " Parameter containing:\n",
       " tensor([[1.]], requires_grad=True))"
      ]
     },
     "execution_count": 255,
     "metadata": {},
     "output_type": "execute_result"
    }
   ],
   "source": [
    "model.rnn_cell._rnn_cell.weight_hh, model.rnn_cell._rnn_cell.weight_ih"
   ]
  },
  {
   "cell_type": "code",
   "execution_count": 271,
   "id": "8b38c145-34d3-4b1d-a561-6ee99b8c8970",
   "metadata": {},
   "outputs": [
    {
     "data": {
      "text/plain": [
       "(tensor([[[-0.0524],\n",
       "          [-0.2335],\n",
       "          [ 0.3654],\n",
       "          ...,\n",
       "          [ 0.1490],\n",
       "          [ 1.3713],\n",
       "          [ 0.5624]]]),\n",
       " tensor(7953.1104))"
      ]
     },
     "execution_count": 271,
     "metadata": {},
     "output_type": "execute_result"
    }
   ],
   "source": [
    "seq = torch.randn(1, 10000, 1)  # Random sequence of 'length'\n",
    "l1_norm = torch.sum(torch.abs(seq))  # Compute the L1 norm\n",
    "seq, l1_norm"
   ]
  },
  {
   "cell_type": "code",
   "execution_count": 272,
   "id": "34f64f06-d1c7-4272-93c9-a2e365f5d1c5",
   "metadata": {},
   "outputs": [
    {
     "data": {
      "text/plain": [
       "tensor([10000])"
      ]
     },
     "execution_count": 272,
     "metadata": {},
     "output_type": "execute_result"
    }
   ],
   "source": [
    "seq_len = torch.tensor([seq.size(1)])\n",
    "seq_len"
   ]
  },
  {
   "cell_type": "code",
   "execution_count": 273,
   "id": "1bdcc343-61ba-45b3-b885-544173bf5be7",
   "metadata": {},
   "outputs": [
    {
     "name": "stdout",
     "output_type": "stream",
     "text": [
      "Predicted sum: 7953.1142578125, Actual sum: 7953.1142578125\n"
     ]
    }
   ],
   "source": [
    "# Get the model's prediction\n",
    "with torch.no_grad():\n",
    "    predicted_sum = model(seq, seq_len).item()\n",
    "    actual_sum = sum(torch.abs(seq).squeeze()).item()\n",
    "\n",
    "print(f\"Predicted sum: {predicted_sum}, Actual sum: {actual_sum}\")"
   ]
  },
  {
   "cell_type": "code",
   "execution_count": null,
   "id": "cec2087f-8982-4614-a86c-19ab1fb7a3e5",
   "metadata": {},
   "outputs": [],
   "source": []
  }
 ],
 "metadata": {
  "kernelspec": {
   "display_name": "l1_norm_network",
   "language": "python",
   "name": "l1_norm_network"
  },
  "language_info": {
   "codemirror_mode": {
    "name": "ipython",
    "version": 3
   },
   "file_extension": ".py",
   "mimetype": "text/x-python",
   "name": "python",
   "nbconvert_exporter": "python",
   "pygments_lexer": "ipython3",
   "version": "3.11.6"
  }
 },
 "nbformat": 4,
 "nbformat_minor": 5
}
