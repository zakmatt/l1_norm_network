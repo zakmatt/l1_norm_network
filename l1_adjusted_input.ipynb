{
 "cells": [
  {
   "cell_type": "code",
   "execution_count": 1,
   "id": "f7687829-6172-442e-b618-09926c1f610e",
   "metadata": {},
   "outputs": [],
   "source": [
    "import mlflow\n",
    "import torch\n",
    "\n",
    "from torch import nn\n",
    "from torch import optim\n",
    "from torch.nn.utils.rnn import pad_sequence"
   ]
  },
  {
   "cell_type": "markdown",
   "id": "80a2a1a1-694d-45d9-bdd3-e37eaf6f772a",
   "metadata": {},
   "source": [
    "## Thoughts and assumptions\n",
    "In this task I was to create a network which would compute the $L1$ norm of the a variable-length input sequence of real-valued numbers without using the $L1$ norm explicitly. I could use Dense Layers, Relu activations, the negation operation, and the sum and multiplication operations. No manually initialize a specific weight or set of weights was allowed.\n",
    "\n",
    "I needed to split this problem into multiple 'sub-problems'\n",
    "1. Handle the variable-lenth input sequence.\n",
    "2. Handle values of different signs.\n",
    "3. Build a trainable model which would predict/compute the $L1$ norm of the input.  \n",
    "\n",
    "=====================================================================================================================================\n",
    "\n",
    "1. The first point was relatively easy and hinted in the task description - use an RNN architecture.\n",
    "2. Point number two needed a bit more thinking and not because it was hard to implement it, but in order to better understand why such operations is required.  \n",
    "output of the RNN cell can described using the following equation:  \n",
    "<center>$h' = tanh(W_{ih}*x + b_{ih} + W_{hh}*h + b_{hh})$</center>  \n",
    "If the input $x$ changes its sign, then it will adjust the value that will before having it processed through the activation function. I could use the negation so I will change the signs to positive wherever $x < 0$. The other thing which requires attention is the activation function itself. $tanh$ value range is $(-1, 1)$, which scales our output and this behaviour is not expected. We will change it then to relu which returns a linear output for a non-negative input $ReLU(x) = (x)^{+}$. Our equation then changes into\n",
    "<center>$h' = ReLU(W_{ih}*x + b_{ih} + W_{hh}*h + b_{hh})$</center> \n",
    "3. Here I needed to establish what I want to achieve. I have an RNN cell which outputs the sum of the scaled previous output added to the current number which is also scaled. I also add bias. That lead me to the conclusion that the feasible solution to that would get an RNN cel which weights would be identity matrices (or just 1 like in our case; $W_{ih} = 1$ and $W_{hh} = 1$) and bias is either 0 (both $b_{ih} = 0$ and $b_{hh} = 0$) or it cancels itself ($b_{ih} = -b_{hh}$). I cannot set it manually but at least I know what I'm trying to achieve."
   ]
  },
  {
   "cell_type": "code",
   "execution_count": 2,
   "id": "e529857c-4393-4f35-9c45-c7c6bbb48841",
   "metadata": {},
   "outputs": [
    {
     "data": {
      "text/plain": [
       "<torch._C.Generator at 0x132c3bf90>"
      ]
     },
     "execution_count": 2,
     "metadata": {},
     "output_type": "execute_result"
    }
   ],
   "source": [
    "# for reproducibility\n",
    "torch.manual_seed(42)"
   ]
  },
  {
   "cell_type": "code",
   "execution_count": 3,
   "id": "a0b65b7b-d311-4bff-b79e-5eebfa64d932",
   "metadata": {},
   "outputs": [
    {
     "name": "stdout",
     "output_type": "stream",
     "text": [
      "Before: tensor([ 1, -1,  2, -2,  3, -3])\n",
      "After: tensor([-1,  1, -2,  2, -3,  3])\n",
      "Convert only negative values\n",
      "tensor([1, 1, 2, 2, 3, 3])\n"
     ]
    },
    {
     "data": {
      "text/plain": [
       "tensor([1., 1., 2., 2., 3., 3.])"
      ]
     },
     "execution_count": 3,
     "metadata": {},
     "output_type": "execute_result"
    }
   ],
   "source": [
    "k = torch.tensor([1, -1, 2, -2, 3, -3])\n",
    "print(f\"Before: {k}\\nAfter: {torch.neg(k)}\")\n",
    "print(\"Convert only negative values\")\n",
    "print(f\"{torch.where(k < 0, torch.neg(k), k)}\")\n",
    "torch.sqrt(k**2)"
   ]
  },
  {
   "cell_type": "code",
   "execution_count": 4,
   "id": "d5925324-a24a-45b1-bfb8-a5ed57047db6",
   "metadata": {},
   "outputs": [],
   "source": [
    "class CustomRNNCell(nn.Module):\n",
    "    \"\"\"Custom RNN cell \n",
    "    \n",
    "    Custom RNN cell which for a given input returns it's positive value summed\n",
    "    to the information carried along.\n",
    "    \"\"\"\n",
    "\n",
    "    def __init__(self, input_size: int = 1, hidden_size: int = 1):\n",
    "        \"\"\"Initialization method\n",
    "\n",
    "        :param input_size: input size; number od values in a single input\n",
    "        :type input_size: int\n",
    "        :param hidden_size: number of features in the hidden layer of our RNN cell\n",
    "        :type hidden_size: int\n",
    "        \"\"\"\n",
    "        super(CustomRNNCell, self).__init__()\n",
    "\n",
    "        self._rnn_cell = nn.RNNCell(\n",
    "            input_size, \n",
    "            hidden_size,\n",
    "            bias=False, # we do not need bias since it's information is irrelevant.\n",
    "            nonlinearity=\"relu\"\n",
    "        )\n",
    "\n",
    "    def forward(self, x: torch.Tensor, hidden: torch.Tensor) -> torch.Tensor:\n",
    "        \"\"\"Forward pass\n",
    "\n",
    "        :param x: input tensor\n",
    "        :type x: torch.Tensor\n",
    "        :param hidden: output from the previous iteration\n",
    "        :type hidden: torch.Tensor\n",
    "        :return: processed tensor\n",
    "        :rtype: torch.Tensor\n",
    "        \"\"\"\n",
    "\n",
    "        # transformation to input x\n",
    "        x = torch.where(x < 0, torch.neg(x), x)\n",
    "        # another option would be to square it and then calculate the root square\n",
    " \n",
    "        # pass through the cell\n",
    "        hidden = self._rnn_cell(x, hidden)\n",
    "\n",
    "        return hidden"
   ]
  },
  {
   "cell_type": "code",
   "execution_count": 5,
   "id": "71f37f04-2cee-4276-835f-c1254241fff4",
   "metadata": {},
   "outputs": [],
   "source": [
    "class RNN(nn.Module):\n",
    "    \"\"\"RNN computing the L1 norm of the input sequence\"\"\"\n",
    "\n",
    "    def __init__(self, input_size: int = 1, hidden_size: int = 1):\n",
    "        \"\"\"Initialization\n",
    "\n",
    "        :param input_size: input size - in our case it will be one\n",
    "        but other options are also covered\n",
    "        :type: input_size: int\n",
    "        :param hidden_size: \n",
    "        \"\"\"\n",
    "\n",
    "        super(RNN, self).__init__()\n",
    "        self.hidden_size = hidden_size\n",
    "        self.rnn_cell = CustomRNNCell(input_size, hidden_size)\n",
    "        \n",
    "    def forward(self, x: torch.Tensor) -> torch.Tensor:\n",
    "        \"\"\"Forward pass\n",
    "\n",
    "        :param x: input tensor\n",
    "        :type x: torch.Tensor\n",
    "        :return: computed norm\n",
    "        :rtype: torch.Tensor\n",
    "        \"\"\"\n",
    "\n",
    "        batch_size = x.size(0)\n",
    "        hidden = torch.zeros(batch_size, self.hidden_size)\n",
    "\n",
    "        # Iterate over time steps\n",
    "        for t in range(x.size(1)):\n",
    "            current_input = x[:, t, :]\n",
    "            hidden = self.rnn_cell(current_input, hidden)\n",
    "        \n",
    "        return hidden"
   ]
  },
  {
   "cell_type": "code",
   "execution_count": 6,
   "id": "c943b79c-68df-4dc5-af06-d548f20631ba",
   "metadata": {},
   "outputs": [],
   "source": [
    "def generate_data(batch_size: int, max_length: int) -> torch.Tensor:\n",
    "    \"\"\"Generate random sequences and their L1 norms\n",
    "\n",
    "    :param batch_size: batch size\n",
    "    :type batch_size: int\n",
    "    :param max_length: max vector length\n",
    "    :type max_length: int\n",
    "    :return: generated random sequence\n",
    "    :rtype: torch.Tensor\n",
    "    \"\"\"\n",
    "\n",
    "    sequences = []\n",
    "    targets = []\n",
    "    for _ in range(batch_size):\n",
    "        length = torch.randint(1, max_length + 1, (1,)).item() # get random length\n",
    "        seq = torch.randn(length, 1)  # Random sequence of 'length'\n",
    "        l1_norm = torch.sum(torch.abs(seq))  # Compute the L1 norm\n",
    "        sequences.append(seq)\n",
    "        targets.append(torch.tensor([l1_norm], dtype=torch.float32))\n",
    "    return sequences, targets"
   ]
  },
  {
   "cell_type": "code",
   "execution_count": 7,
   "id": "21a74f4e-e7b5-4fe5-a20a-262caf6ef6a0",
   "metadata": {},
   "outputs": [],
   "source": [
    "# Parameters\n",
    "input_size = 1  # Each element is a scalar\n",
    "hidden_size = 1  # Output is a scalar\n",
    "batch_size = 8\n",
    "max_length = 10  # Maximum length of any sequence\n",
    "epochs = 10000\n",
    "\n",
    "# Create the RNN model\n",
    "model = RNN(input_size=input_size, hidden_size=hidden_size)"
   ]
  },
  {
   "cell_type": "code",
   "execution_count": 8,
   "id": "fa9e4d78-790b-4dab-9475-17cee9d72ba5",
   "metadata": {},
   "outputs": [
    {
     "name": "stdout",
     "output_type": "stream",
     "text": [
      "Whh = Parameter containing:\n",
      "tensor([[0.8300]], requires_grad=True)\n",
      "Wih = Parameter containing:\n",
      "tensor([[0.7645]], requires_grad=True)\n",
      "bhh = None\n",
      "bih = None\n",
      "sum of coefficients: 1.5945464372634888\n"
     ]
    }
   ],
   "source": [
    "print(f\"Whh = {model.rnn_cell._rnn_cell.weight_hh}\")\n",
    "print(f\"Wih = {model.rnn_cell._rnn_cell.weight_ih}\")\n",
    "print(f\"bhh = {model.rnn_cell._rnn_cell.bias_hh}\")\n",
    "print(f\"bih = {model.rnn_cell._rnn_cell.bias_ih}\")\n",
    "\n",
    "print(f\"sum of coefficients: {sum(param.item() for param in model.parameters())}\")"
   ]
  },
  {
   "cell_type": "code",
   "execution_count": 9,
   "id": "d0202b39-0d52-4d83-8bf3-5055ec2b5248",
   "metadata": {},
   "outputs": [],
   "source": [
    "# train till w's are 1"
   ]
  },
  {
   "cell_type": "code",
   "execution_count": 10,
   "id": "839e42cb-b8f7-4c6a-aed4-ee159078fee7",
   "metadata": {
    "scrolled": true
   },
   "outputs": [
    {
     "name": "stdout",
     "output_type": "stream",
     "text": [
      "Epoch 100, Loss: 4.276210784912109\n",
      "Epoch 200, Loss: 0.12242818623781204\n",
      "Epoch 300, Loss: 0.0049967095255851746\n",
      "Epoch 400, Loss: 0.008795053698122501\n",
      "Epoch 500, Loss: 0.003076959168538451\n",
      "Epoch 600, Loss: 0.006826804019510746\n",
      "Epoch 700, Loss: 0.002828337484970689\n",
      "Epoch 800, Loss: 0.005603964440524578\n",
      "Epoch 900, Loss: 0.003345914650708437\n",
      "Epoch 1000, Loss: 0.0034390967339277267\n",
      "Epoch 1100, Loss: 0.002087386092171073\n",
      "Epoch 1200, Loss: 0.0025609598960727453\n",
      "Epoch 1300, Loss: 0.001999644096940756\n",
      "Epoch 1400, Loss: 0.0008493103086948395\n",
      "Epoch 1500, Loss: 0.0009945344645529985\n",
      "Epoch 1600, Loss: 0.0008480101823806763\n",
      "Epoch 1700, Loss: 0.0005350846331566572\n",
      "Epoch 1800, Loss: 0.0019276663661003113\n",
      "Epoch 1900, Loss: 0.0001417740131728351\n",
      "Epoch 2000, Loss: 0.0010181150864809752\n",
      "Epoch 2100, Loss: 0.0005129548371769488\n",
      "Epoch 2200, Loss: 0.0008599259308539331\n",
      "Epoch 2300, Loss: 0.00019865419017150998\n",
      "Epoch 2400, Loss: 0.0004924320965074003\n",
      "Epoch 2500, Loss: 0.00021573797857854515\n",
      "Epoch 2600, Loss: 0.0005783468950539827\n",
      "Epoch 2700, Loss: 0.00011505369184305891\n",
      "Epoch 2800, Loss: 7.114694744814187e-05\n",
      "Epoch 2900, Loss: 5.1703878853004426e-05\n",
      "Epoch 3000, Loss: 4.9501599278301e-05\n",
      "Epoch 3100, Loss: 9.905901970341802e-05\n",
      "Epoch 3200, Loss: 2.7923852030653507e-05\n",
      "Epoch 3300, Loss: 3.92223009839654e-05\n",
      "Epoch 3400, Loss: 8.820546099741478e-06\n",
      "Epoch 3500, Loss: 9.115019565797411e-06\n",
      "Epoch 3600, Loss: 7.087496214808198e-06\n",
      "Epoch 3700, Loss: 5.469754796649795e-06\n",
      "Epoch 3800, Loss: 1.0388278042228194e-06\n",
      "Epoch 3900, Loss: 1.6345775293302722e-06\n",
      "Epoch 4000, Loss: 2.8670194751612144e-07\n",
      "Epoch 4100, Loss: 7.203101404229528e-07\n",
      "Epoch 4200, Loss: 2.1767812086181948e-07\n",
      "Epoch 4300, Loss: 1.2513515912360162e-07\n",
      "Epoch 4400, Loss: 2.3776564717081783e-08\n",
      "Epoch 4500, Loss: 1.1280537393076884e-08\n",
      "Epoch 4600, Loss: 2.0854530546898786e-08\n",
      "Epoch 4700, Loss: 3.0065974154780406e-09\n",
      "Epoch 4800, Loss: 1.8595551765088203e-09\n",
      "Epoch 4900, Loss: 3.3499603091513563e-10\n",
      "Epoch 5000, Loss: 6.906422100882992e-10\n",
      "Epoch 5100, Loss: 2.1313895093300061e-10\n",
      "Epoch 5200, Loss: 4.758657357051277e-11\n",
      "Epoch 5300, Loss: 6.083133996526158e-11\n",
      "Epoch 5400, Loss: 1.2585488207150775e-11\n",
      "Epoch 5500, Loss: 1.3377743357523286e-11\n",
      "Epoch 5600, Loss: 7.415512648378808e-12\n",
      "Epoch 5700, Loss: 2.6436880462554768e-11\n",
      "Epoch 5800, Loss: 4.686473431547711e-12\n",
      "Epoch 5900, Loss: 1.7777779248717707e-11\n",
      "Epoch 6000, Loss: 2.0472512574087887e-11\n",
      "Epoch 6100, Loss: 4.106937012693379e-12\n",
      "Epoch 6200, Loss: 3.4483527144857362e-12\n",
      "Epoch 6300, Loss: 1.3458373304686688e-11\n",
      "Epoch 6400, Loss: 8.682832230988424e-12\n",
      "Epoch 6500, Loss: 1.2452261444195756e-12\n",
      "Epoch 6600, Loss: 3.495870259939693e-12\n",
      "Epoch 6700, Loss: 9.094947017729282e-13\n",
      "Epoch 6800, Loss: 8.384404281969182e-13\n",
      "Epoch 6900, Loss: 9.183764859699295e-13\n",
      "Epoch 7000, Loss: 6.914468997365475e-13\n",
      "Epoch 7100, Loss: 4.14890344302421e-13\n",
      "Epoch 7200, Loss: 7.744915819785092e-13\n",
      "Epoch 7300, Loss: 1.7763741866350102e-13\n",
      "Epoch 7400, Loss: 1.3073986337985843e-12\n",
      "Epoch 7500, Loss: 8.473222123939195e-13\n",
      "Epoch 7600, Loss: 5.551115123125783e-13\n",
      "Epoch 7700, Loss: 8.975320486825922e-13\n",
      "Epoch 7800, Loss: 2.504663143554353e-13\n",
      "Epoch 7900, Loss: 9.734435479913373e-13\n",
      "Epoch 8000, Loss: 9.254819133275305e-13\n",
      "Epoch 8100, Loss: 1.4352963262354024e-12\n",
      "Epoch 8200, Loss: 6.430411758628907e-13\n",
      "Epoch 8300, Loss: 8.881784197001252e-13\n",
      "Epoch 8400, Loss: 1.784017378270164e-12\n",
      "Epoch 8500, Loss: 1.6431300764452317e-12\n",
      "Finished training after 8527 epochs\n",
      "Predicted sum: 7882.54345703125, Actual sum: 7882.5400390625\n"
     ]
    }
   ],
   "source": [
    "# Training setup\n",
    "def train_model(model, batch_size, max_length, learning_rate=0.001):\n",
    "    optimizer = optim.Adam(model.parameters(), lr=learning_rate)\n",
    "    criterion = nn.MSELoss()  # Mean Squared Error loss\n",
    "    \n",
    "    epoch = 1\n",
    "    do_train = True\n",
    "    while do_train:\n",
    "        # Generate a batch of random sequences and their L1 norms\n",
    "        sequences, targets = generate_data(batch_size=batch_size, max_length=max_length)\n",
    "        \n",
    "        # Pad sequences to have a consistent batch size\n",
    "        padded_sequences = pad_sequence(sequences, batch_first=True)\n",
    "        targets = torch.cat(targets)\n",
    "        \n",
    "        optimizer.zero_grad()\n",
    "        \n",
    "        # Forward pass\n",
    "        outputs = model(padded_sequences).squeeze(1)\n",
    "        \n",
    "        # Compute loss\n",
    "        loss = criterion(outputs, targets)\n",
    "        loss.backward()\n",
    "        \n",
    "        # Update weights\n",
    "        optimizer.step()\n",
    "        \n",
    "        if epoch % 100 == 0:\n",
    "            print(f'Epoch {epoch}, Loss: {loss.item()}')\n",
    "\n",
    "        if model.rnn_cell._rnn_cell.weight_hh == 1 and model.rnn_cell._rnn_cell.weight_ih == 1:\n",
    "            print(f\"Finished training after {epoch} epochs\")\n",
    "            do_train = False\n",
    "\n",
    "        if epoch > 5e4:\n",
    "            do_train = False\n",
    "            print(\"Could not converge\")\n",
    "        epoch += 1\n",
    "\n",
    "# Parameters\n",
    "input_size = 1  # Each element is a scalar\n",
    "hidden_size = 1  # Output is a scalar\n",
    "batch_size = 8\n",
    "max_length = 10  # Maximum length of any sequence\n",
    "\n",
    "# Train the model\n",
    "train_model(model, batch_size, max_length)\n",
    "\n",
    "# Test the model on a new sequence\n",
    "seq = torch.randn(1, 10000, 1)  # Random sequence of 'length'\n",
    "l1_norm = torch.sum(torch.abs(seq))  # Compute the L1 norm\n",
    "\n",
    "# Get the model's prediction\n",
    "model.eval()\n",
    "with torch.no_grad():\n",
    "    predicted_sum = model(seq).item()\n",
    "\n",
    "print(f\"Predicted sum: {predicted_sum}, Actual sum: {l1_norm}\")"
   ]
  },
  {
   "cell_type": "code",
   "execution_count": 11,
   "id": "d1b3ae04-9de1-47c2-8de2-a070f6acd6cf",
   "metadata": {},
   "outputs": [
    {
     "name": "stdout",
     "output_type": "stream",
     "text": [
      "Whh = Parameter containing:\n",
      "tensor([[1.]], requires_grad=True)\n",
      "Wih = Parameter containing:\n",
      "tensor([[1.]], requires_grad=True)\n",
      "bhh = None\n",
      "bih = None\n"
     ]
    }
   ],
   "source": [
    "print(f\"Whh = {model.rnn_cell._rnn_cell.weight_hh}\")\n",
    "print(f\"Wih = {model.rnn_cell._rnn_cell.weight_ih}\")\n",
    "print(f\"bhh = {model.rnn_cell._rnn_cell.bias_hh}\")\n",
    "print(f\"bih = {model.rnn_cell._rnn_cell.bias_ih}\")"
   ]
  },
  {
   "cell_type": "markdown",
   "id": "f48c526a-6ceb-45fc-8390-6bbcffc72a8c",
   "metadata": {},
   "source": [
    "## Observations\n",
    "\n",
    "I ran multiple experiments just to check how everything's \n",
    "\n",
    "### No bias, just weights\n",
    "1. both weights are positive, then model converges\n",
    "2. hh positive, ih negative - not converging\n",
    "3. hh negative, ih positive - not converging\n",
    "4. hh negative but very small, ih positive - converging\n",
    "5. both weights negative - not converging\n",
    "\n",
    "\n",
    "### Adding bias\n",
    "1. wh negative, wih positive, bhh positive, bih positive - converges but after a lot of iterations\n",
    "2. wh negative, wih positive, bhh positive, bih negative - sum of coeffs is negative, converges\n",
    "3. wh negative, wih positive, bhh negative, bih negative - sum of coeffs is negative, converges\n",
    "\n",
    "4. wh positive, wih positive (very small), bhh positive, bih negative - converges\n",
    "5. wh positive, wih positive (very small), bhh negative, bih positive - sum of coeffs is positive, converges very fast\n",
    "6. wh positive, wih positive (very small), bhh negative, bih negative - sum of coeffs is positive, converges\n",
    "\n",
    "7. wh positive, wih negative, bhh positive, bih negative - converges\n",
    "8. wh positive, wih negative, bhh negative, bih positive - not converging (sum of coefficients is negative)\n",
    "9. wh positive, wih negative, bhh positive, bih positive - sum of coeffs is positive, converges\n",
    "\n",
    "10. wh negative, wih negative (very small), bhh negative, bih negative - not converging\n",
    "11. wh negative, wih negative (very small), bhh positive, bih negative - converges\n",
    "12. wh negative, wih negative, bhh positive, bih positive - sum of coefficients is negative, converges"
   ]
  },
  {
   "cell_type": "markdown",
   "id": "963caa8b-aeef-4cab-aa8b-eea5ba19ff2e",
   "metadata": {},
   "source": [
    "# Conclusion and final thoughts\n",
    "The weights should ideally converge to 1, or the identity matrix, since we are essentially adding each input (or its negation) to the accumulated sum.\n",
    "ReLU outputs zero for any input that is negative or zero. If our weights are initialized with negative values, they might lead to negative outputs when applied to the inputs. If these negative outputs are passed through ReLU, they are clamped to zero. In that case we face information loss ($ReLU$ effectively discards negative signals) and gradient issues (if $ReLU$ outputs 0 in the forward pass, its gradient in the backward pass will also be 0. The way to address it would be to make sure that the initialized weights are positive or use an activation function which allows a small, non-zero output for negative inputs"
   ]
  },
  {
   "cell_type": "code",
   "execution_count": null,
   "id": "cec2087f-8982-4614-a86c-19ab1fb7a3e5",
   "metadata": {},
   "outputs": [],
   "source": []
  }
 ],
 "metadata": {
  "kernelspec": {
   "display_name": "l1_norm_network",
   "language": "python",
   "name": "l1_norm_network"
  },
  "language_info": {
   "codemirror_mode": {
    "name": "ipython",
    "version": 3
   },
   "file_extension": ".py",
   "mimetype": "text/x-python",
   "name": "python",
   "nbconvert_exporter": "python",
   "pygments_lexer": "ipython3",
   "version": "3.11.6"
  }
 },
 "nbformat": 4,
 "nbformat_minor": 5
}
